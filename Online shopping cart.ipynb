{
  "nbformat": 4,
  "nbformat_minor": 0,
  "metadata": {
    "colab": {
      "provenance": [],
      "authorship_tag": "ABX9TyPAIPoGuD2uKNKeP/9Z05F7",
      "include_colab_link": true
    },
    "kernelspec": {
      "name": "python3",
      "display_name": "Python 3"
    },
    "language_info": {
      "name": "python"
    }
  },
  "cells": [
    {
      "cell_type": "markdown",
      "metadata": {
        "id": "view-in-github",
        "colab_type": "text"
      },
      "source": [
        "<a href=\"https://colab.research.google.com/github/UMAMAHESHWARI-M/python-code/blob/main/Online%20shopping%20cart.ipynb\" target=\"_parent\"><img src=\"https://colab.research.google.com/assets/colab-badge.svg\" alt=\"Open In Colab\"/></a>"
      ]
    },
    {
      "cell_type": "code",
      "execution_count": null,
      "metadata": {
        "colab": {
          "base_uri": "https://localhost:8080/"
        },
        "id": "wBMO0V125GE8",
        "outputId": "82ce5ef0-b0ed-41f3-a1bc-51222fe667ee"
      },
      "outputs": [
        {
          "output_type": "stream",
          "name": "stdout",
          "text": [
            "apple added to cart.\n",
            "milk added to cart.\n",
            "Items in cart: ['apple', 'milk']\n",
            "Total: 50\n"
          ]
        }
      ],
      "source": [
        "cart = []\n",
        "prices = {\"apple\": 20, \"banana\": 10, \"milk\": 30, \"bread\": 25}\n",
        "\n",
        "def add_to_cart(item):\n",
        "    if item in prices:\n",
        "        cart.append(item)\n",
        "        print(f\"{item} added to cart.\")\n",
        "    else:\n",
        "        print(\"Item not available.\")\n",
        "\n",
        "def view_cart():\n",
        "    print(\"Items in cart:\", cart)\n",
        "    total = sum(prices[item] for item in cart)\n",
        "    print(\"Total:\", total)\n",
        "\n",
        "# Example usage\n",
        "add_to_cart(\"apple\")\n",
        "add_to_cart(\"milk\")\n",
        "view_cart()\n"
      ]
    }
  ]
}