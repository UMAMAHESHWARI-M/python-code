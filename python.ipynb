{
  "nbformat": 4,
  "nbformat_minor": 0,
  "metadata": {
    "colab": {
      "provenance": [],
      "authorship_tag": "ABX9TyN3EIGFzM1Y4CRd1WW4zS1T",
      "include_colab_link": true
    },
    "kernelspec": {
      "name": "python3",
      "display_name": "Python 3"
    },
    "language_info": {
      "name": "python"
    }
  },
  "cells": [
    {
      "cell_type": "markdown",
      "metadata": {
        "id": "view-in-github",
        "colab_type": "text"
      },
      "source": [
        "<a href=\"https://colab.research.google.com/github/UMAMAHESHWARI-M/python-code/blob/main/python.ipynb\" target=\"_parent\"><img src=\"https://colab.research.google.com/assets/colab-badge.svg\" alt=\"Open In Colab\"/></a>"
      ]
    },
    {
      "cell_type": "code",
      "execution_count": null,
      "metadata": {
        "colab": {
          "base_uri": "https://localhost:8080/"
        },
        "id": "wBMO0V125GE8",
        "outputId": "82ce5ef0-b0ed-41f3-a1bc-51222fe667ee"
      },
      "outputs": [
        {
          "output_type": "stream",
          "name": "stdout",
          "text": [
            "apple added to cart.\n",
            "milk added to cart.\n",
            "Items in cart: ['apple', 'milk']\n",
            "Total: 50\n"
          ]
        }
      ],
      "source": [
        "cart = []\n",
        "prices = {\"apple\": 20, \"banana\": 10, \"milk\": 30, \"bread\": 25}\n",
        "\n",
        "def add_to_cart(item):\n",
        "    if item in prices:\n",
        "        cart.append(item)\n",
        "        print(f\"{item} added to cart.\")\n",
        "    else:\n",
        "        print(\"Item not available.\")\n",
        "\n",
        "def view_cart():\n",
        "    print(\"Items in cart:\", cart)\n",
        "    total = sum(prices[item] for item in cart)\n",
        "    print(\"Total:\", total)\n",
        "\n",
        "# Example usage\n",
        "add_to_cart(\"apple\")\n",
        "add_to_cart(\"milk\")\n",
        "view_cart()\n"
      ]
    },
    {
      "cell_type": "code",
      "source": [
        "def calculate_grade(marks):\n",
        "    if marks >= 90:\n",
        "        return \"A\"\n",
        "    elif marks >= 80:\n",
        "        return \"B\"\n",
        "    elif marks >= 70:\n",
        "        return \"C\"\n",
        "    elif marks >= 60:\n",
        "        return \"D\"\n",
        "    else:\n",
        "        return \"F\"\n",
        "\n",
        "# Example usage\n",
        "marks = int(input(\"Enter your marks: \"))\n",
        "grade = calculate_grade(marks)\n",
        "print(\"Your grade is:\", grade)\n"
      ],
      "metadata": {
        "colab": {
          "base_uri": "https://localhost:8080/"
        },
        "id": "u08LnO8b_QO0",
        "outputId": "6ee42211-bd1e-444e-aec0-add79678f1f0"
      },
      "execution_count": 2,
      "outputs": [
        {
          "output_type": "stream",
          "name": "stdout",
          "text": [
            "Enter your marks: 85\n",
            "Your grade is: B\n"
          ]
        }
      ]
    },
    {
      "cell_type": "code",
      "source": [
        "def calculate_bill(units):\n",
        "    if units <= 100:\n",
        "        bill = units * 1.5\n",
        "    elif units <= 200:\n",
        "        bill = 100 * 1.5 + (units - 100) * 2.5\n",
        "    else:\n",
        "        bill = 100 * 1.5 + 100 * 2.5 + (units - 200) * 3.5\n",
        "    return bill\n",
        "\n",
        "# Example usage\n",
        "units = int(input(\"Enter electricity units consumed: \"))\n",
        "total_bill = calculate_bill(units)\n",
        "print(\"Total bill: ₹\", total_bill)\n"
      ],
      "metadata": {
        "colab": {
          "base_uri": "https://localhost:8080/"
        },
        "id": "YOPgS-Ly_m3i",
        "outputId": "4ca90b09-fa3a-4257-e40a-93e4cdc2449b"
      },
      "execution_count": 3,
      "outputs": [
        {
          "output_type": "stream",
          "name": "stdout",
          "text": [
            "Enter electricity units consumed: 150\n",
            "Total bill: ₹ 275.0\n"
          ]
        }
      ]
    },
    {
      "cell_type": "code",
      "source": [
        "def classify_age(age):\n",
        "    if age < 13:\n",
        "        return \"Child\"\n",
        "    elif age < 20:\n",
        "        return \"Teenager\"\n",
        "    elif age < 60:\n",
        "        return \"Adult\"\n",
        "    else:\n",
        "        return \"Senior Citizen\"\n",
        "\n",
        "# Example usage\n",
        "age = int(input(\"Enter your age: \"))\n",
        "group = classify_age(age)\n",
        "print(\"You are classified as:\", group)\n"
      ],
      "metadata": {
        "colab": {
          "base_uri": "https://localhost:8080/"
        },
        "id": "bHSHLvaQ_1KX",
        "outputId": "9687d3bf-c2db-48d0-e4b7-797d071981a6"
      },
      "execution_count": 4,
      "outputs": [
        {
          "output_type": "stream",
          "name": "stdout",
          "text": [
            "Enter your age: 20\n",
            "You are classified as: Adult\n"
          ]
        }
      ]
    }
  ]
}